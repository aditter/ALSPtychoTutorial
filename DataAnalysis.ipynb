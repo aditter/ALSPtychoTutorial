{
 "cells": [
  {
   "cell_type": "markdown",
   "id": "4e4e5417-52dc-4ce9-8b18-e2a4e67b1019",
   "metadata": {},
   "source": [
    "# Import Statements"
   ]
  },
  {
   "cell_type": "code",
   "execution_count": 2,
   "id": "864c6859-9c53-4f03-80ef-16b940854ebf",
   "metadata": {},
   "outputs": [
    {
     "ename": "ModuleNotFoundError",
     "evalue": "No module named 'skimage'",
     "output_type": "error",
     "traceback": [
      "\u001b[31m---------------------------------------------------------------------------\u001b[39m",
      "\u001b[31mModuleNotFoundError\u001b[39m                       Traceback (most recent call last)",
      "\u001b[36mCell\u001b[39m\u001b[36m \u001b[39m\u001b[32mIn[2]\u001b[39m\u001b[32m, line 8\u001b[39m\n\u001b[32m      6\u001b[39m \u001b[38;5;28;01mimport\u001b[39;00m\u001b[38;5;250m \u001b[39m\u001b[34;01mnumpy\u001b[39;00m\u001b[38;5;250m \u001b[39m\u001b[38;5;28;01mas\u001b[39;00m\u001b[38;5;250m \u001b[39m\u001b[34;01mnp\u001b[39;00m\n\u001b[32m      7\u001b[39m \u001b[38;5;28;01mimport\u001b[39;00m\u001b[38;5;250m \u001b[39m\u001b[34;01mscipy\u001b[39;00m\n\u001b[32m----> \u001b[39m\u001b[32m8\u001b[39m \u001b[38;5;28;01mimport\u001b[39;00m\u001b[38;5;250m \u001b[39m\u001b[34;01mskimage\u001b[39;00m\n",
      "\u001b[31mModuleNotFoundError\u001b[39m: No module named 'skimage'"
     ]
    }
   ],
   "source": [
    "# h5py for loading data which is stored in an hdf5 file.\n",
    "import h5py\n",
    "# matplotlib for plotting\n",
    "import matplotlib.pyplot as plt\n",
    "# scientific python modules for analyzing data\n",
    "import numpy as np\n",
    "import scipy\n"
   ]
  },
  {
   "cell_type": "markdown",
   "id": "aa43b3cd-e586-4da1-992b-5ea72f2860fb",
   "metadata": {},
   "source": [
    "# Useful Functions"
   ]
  },
  {
   "cell_type": "code",
   "execution_count": null,
   "id": "a73b13e7-ade6-427d-af69-592eaaecfa43",
   "metadata": {},
   "outputs": [],
   "source": []
  },
  {
   "cell_type": "markdown",
   "id": "b5cd93a5-0d8f-4be2-94e3-7cfbba39a5c6",
   "metadata": {},
   "source": [
    "# Image Alignment"
   ]
  },
  {
   "cell_type": "code",
   "execution_count": null,
   "id": "7c09279b-ad95-49b6-8e8a-34d8e7aee64d",
   "metadata": {},
   "outputs": [],
   "source": []
  },
  {
   "cell_type": "markdown",
   "id": "33d60ab7-0f50-4d98-8550-c0760488924d",
   "metadata": {},
   "source": [
    "# Energy Alignment"
   ]
  },
  {
   "cell_type": "code",
   "execution_count": null,
   "id": "a3b214c3-ae07-4dd9-9bf2-c0b4a292c378",
   "metadata": {},
   "outputs": [],
   "source": []
  },
  {
   "cell_type": "markdown",
   "id": "97c1a83e-d483-4696-9e96-3fc97e2393e8",
   "metadata": {},
   "source": [
    "# Fitting to Known Spectra"
   ]
  },
  {
   "cell_type": "code",
   "execution_count": null,
   "id": "0b338ac3-f729-447b-bc7c-00e642c03b74",
   "metadata": {},
   "outputs": [],
   "source": []
  }
 ],
 "metadata": {
  "kernelspec": {
   "display_name": "cdtools",
   "language": "python",
   "name": "cdtools"
  },
  "language_info": {
   "codemirror_mode": {
    "name": "ipython",
    "version": 3
   },
   "file_extension": ".py",
   "mimetype": "text/x-python",
   "name": "python",
   "nbconvert_exporter": "python",
   "pygments_lexer": "ipython3",
   "version": "3.13.5"
  }
 },
 "nbformat": 4,
 "nbformat_minor": 5
}
