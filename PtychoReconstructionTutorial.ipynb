{
 "cells": [
  {
   "cell_type": "markdown",
   "id": "8f5fb7fd-dcaf-4638-991a-441b9692865f",
   "metadata": {},
   "source": [
    "Tutorial for ptychography reconstructions with CDTools\n",
    "======================================================\n",
    "\n",
    "This tutorial runs through a few basic ptychography reconstruction scenarios\n",
    "using cdtools in a jupyter notebook. Before running it, you should run\n",
    "\n",
    "```\n",
    "$ bash setup.sh\n",
    "```\n",
    "\n",
    "In order to install the appropriate conda environment. This will take 2-5 minutes\n",
    "to install. Then, launch the notebook using the 'ptycho-tutorial' kernel. \n",
    "\n",
    "Further resources and information about how to use and install cdtools can be\n",
    "found at the following links:\n",
    "\n",
    "* [CDTools docs](https://cdtools-developers.github.io/cdtools/)\n",
    "* [CDTools Github page](https://github.com/cdtools-developers/cdtools)\n",
    "\n",
    "Feel free to get in contact with any questions!\n",
    "\n",
    "Author:  \n",
    "Abraham Levitan  \n",
    "abraham.levitan@psi.ch"
   ]
  },
  {
   "cell_type": "code",
   "execution_count": null,
   "id": "6d262e97-ea59-4ac0-a3bf-42519cb226da",
   "metadata": {},
   "outputs": [],
   "source": [
    "# Necessary imports\n",
    "%matplotlib inline\n",
    "from matplotlib import pyplot as plt\n",
    "import cdtools\n",
    "import torch as t\n",
    "\n",
    "# Definitions to find data\n",
    "tutorial_data_folder = '/global/cfs/cdirs/als/gsharing/bl701/PtychoTutorial/'"
   ]
  },
  {
   "cell_type": "markdown",
   "id": "3f2d0ebe-51f5-45a0-857c-4d6d79eb3dfe",
   "metadata": {},
   "source": [
    "Loading and viewing data\n",
    "------------------------\n",
    "\n",
    "Data which is stored in a compliant '.cxi' file can be loaded using the\n",
    "`Ptycho2DDataset.from_cxi(<filename>)` factory function.\n",
    "\n",
    "The ptychography data can then be directly viewed using the `dataset.inspect()`\n",
    "function, which produces a set of two plots - the average diffraction pattern, and\n",
    "a small widget which shows the full diffraction data. On the right hand side of\n",
    "the widget are diffraction patterns. The left-hand side of the widget shows\n",
    "a plot of the scan points for the dataset, with the color of each dot corresponding\n",
    "to the summed intensity of the associated diffraction pattern.\n",
    "\n",
    "When run in a script or in an interactive shell, one can click on individual scan\n",
    "points to see the associated diffraction pattern.\n",
    "\n",
    "Let's look at the example below, using a classic publicly available ptychography\n",
    "dataset which was collected at the ALS' COSMIC Imaging branch many years ago:\n",
    "[https://cxidb.org/id-65.html](https://cxidb.org/id-65.html)"
   ]
  },
  {
   "cell_type": "code",
   "execution_count": null,
   "id": "68c18c3f-bfe7-4081-9837-8ab72a1c3a52",
   "metadata": {},
   "outputs": [],
   "source": [
    "# Loading and viewing a dataset\n",
    "au_balls_dataset = cdtools.datasets.Ptycho2DDataset.from_cxi(\n",
    "    tutorial_data_folder + 'AuBalls_700ms_30nmStep_3_6SS_filter.cxi')\n",
    "au_balls_dataset.inspect()\n",
    "plt.show()"
   ]
  },
  {
   "cell_type": "markdown",
   "id": "033dfab1-b987-4c77-93ac-d412600a9a88",
   "metadata": {},
   "source": [
    "Let's also load two other datasets. First, let's look at a ptychography dataset\n",
    "collected using a pinhole and optical light on an optical test bench. This one\n",
    "looks very different! Note the option to change the default plotting units:"
   ]
  },
  {
   "cell_type": "code",
   "execution_count": null,
   "id": "df1911ce-fe04-4fdb-b255-e37036462747",
   "metadata": {},
   "outputs": [],
   "source": [
    "lab_pinhole_dataset = cdtools.datasets.Ptycho2DDataset.from_cxi(\n",
    "    tutorial_data_folder + 'lab_ptycho_data.cxi')\n",
    "lab_pinhole_dataset.inspect(units='mm')\n",
    "plt.show()"
   ]
  },
  {
   "cell_type": "markdown",
   "id": "34a9ec7b-1c64-43de-a900-5190cc4c0b80",
   "metadata": {},
   "source": [
    "Initializing a model\n",
    "--------------------\n",
    "\n",
    "The next step in running a ptychograhy reconstruction is to initialize a model. This\n",
    "initialization step is *very* important, because often a good initialization is the\n",
    "difference between a good reconstruction and a reconstruction which does not even\n",
    "converge.\n",
    "\n",
    "In cdtools, a `CDIModel` is an object which stores all the parameters which will be\n",
    "reconstructed - the object, probe, and additional error correction terms - and also\n",
    "contains the key functions which can simulate diffraction data from those parameters.\n",
    "\n",
    "The standard workhorse model for ptychography reconstructions is the `FancyPtycho` model.\n",
    "Let's see now how to initialize a model from a loaded dataset, using the gold ball\n",
    "ptychography data as an example:"
   ]
  },
  {
   "cell_type": "code",
   "execution_count": null,
   "id": "94ef2137-9d63-4b35-9721-c135c9859eec",
   "metadata": {},
   "outputs": [],
   "source": [
    "# Initialize the model\n",
    "au_balls_model = cdtools.models.FancyPtycho.from_dataset(au_balls_dataset)"
   ]
  },
  {
   "cell_type": "markdown",
   "id": "5ded105a-dc31-40e1-b644-d653fd96458d",
   "metadata": {},
   "source": [
    "Easy! But, how do we know what this initial state looks like? Well, we can inspect it by\n",
    "using the `model.inspect(dataset)` function. This will prepare many plots showing us the current\n",
    "state of all the relevant parameters and error correction terms. Watch out for all the plots!"
   ]
  },
  {
   "cell_type": "code",
   "execution_count": null,
   "id": "2bb7feb1-b097-43ac-a613-fe3d6520692a",
   "metadata": {},
   "outputs": [],
   "source": [
    "au_balls_model.inspect(au_balls_dataset)\n",
    "plt.show()"
   ]
  },
  {
   "cell_type": "markdown",
   "id": "1dec120b-4c12-4f54-9465-869b562c32cf",
   "metadata": {},
   "source": [
    "Okay, let's run through all those plots! We just saw:\n",
    "\n",
    "* The illumination function, plotted both in Fourier space and in real space. The \"amplitude\" plot shows the amplitude, and the \"colorized\" plot also shows phase as hue. This is automatically initialized based on the diffraction data.\n",
    "* The object's amplitude and phase. The object is initialized to a uniform value of 1\n",
    "* The corrected translations. By default, FancyPtycho will attempt to recover accurate positions during the reconstruction process, and this lets us follow the progress\n",
    "* The detector background. In this case, it is loaded from the dataset, but if no background information is included in the dataset, then it will be refined during the reconstruction as well\n",
    "\n",
    "If you're new to ptychography, this may be overwhelming - if you're more familiar, it may seem like old hat. In either case, let's now do some refinement, and see what happens!"
   ]
  },
  {
   "cell_type": "markdown",
   "id": "eaf3f1a0-4396-4c64-9110-30b24ad88cef",
   "metadata": {},
   "source": [
    "Running a reconstruction\n",
    "------------------------\n",
    "\n",
    "To run a reconstruction, we use the generator function `model.Adam_optimize(dataset)`.\n",
    "After each epoch (every time that each diffraction pattern is visited by the algorithm), \n",
    "this generator yields control back to the outer loop, and we can print out a report to\n",
    "follow the loss function.\n",
    "\n",
    "In an interactive shell, it is possible to update the plots and follow a reconstruction's\n",
    "progress live. This is a blessing and a curse - it can help quite a bit with debugging, but\n",
    "it can also take up all the time you should have spent doing other work while you let the\n",
    "reconstruction run by itself. A watched reconstruction never converges.\n",
    "\n",
    "Finally, the reconstruction will run much faster on the GPU. To use the gpu, we move\n",
    "the model and dataset to the GPU. simple as!"
   ]
  },
  {
   "cell_type": "code",
   "execution_count": null,
   "id": "72be0668-9edc-4e22-b819-9aa0e23f66d9",
   "metadata": {},
   "outputs": [],
   "source": [
    "# We move the model to the GPU\n",
    "device = 'cuda'\n",
    "au_balls_model.to(device=device)\n",
    "au_balls_dataset.get_as(device=device)\n",
    "\n",
    "# We run the actual reconstruction\n",
    "for loss in au_balls_model.Adam_optimize(50, au_balls_dataset, batch_size=10):\n",
    "    # We print a quick report of the optimization status\n",
    "    print(au_balls_model.report())\n",
    "    # If desired, liveplot the updates to the model as they happen.\n",
    "    # DO NOT UNCOMMENT THIS IN A JUPYTER NOTEBOOK, it will make you unhappy\n",
    "    ####### model.inspect(dataset)"
   ]
  },
  {
   "cell_type": "markdown",
   "id": "00abffb2-1265-4574-84de-984129294790",
   "metadata": {},
   "source": [
    "This just ran 100 iterations of an automatic differentiation based reconstruction algorithm\n",
    "which uses the Adam optimizer to take update steps. In this case, the default step size is\n",
    "quite large, so if you follow the loss metrics, you will notice that they don't uniformly drop.\n",
    "This can be good at the start of a reconstruction, but it also means that we will not converge\n",
    "to a good result in the end. We therefore may eventually want to *chain* several algorithms,\n",
    "in order to first converge quickly to a reasonable result, before finally dialing in to a high\n",
    "quality result with a differently tuned algorithm.\n",
    "\n",
    "Let's see what this first algorithm did, though:"
   ]
  },
  {
   "cell_type": "code",
   "execution_count": null,
   "id": "ca82a8b0-9d7a-45a2-a92a-1ddc9bac2741",
   "metadata": {},
   "outputs": [],
   "source": [
    "au_balls_model.inspect(au_balls_dataset)\n",
    "plt.show()"
   ]
  },
  {
   "cell_type": "markdown",
   "id": "d70fbce1-564b-48f2-8d63-ecc8fc0144a6",
   "metadata": {},
   "source": [
    "Let's go through each of the parameters, one-by-one:\n",
    "* The probe looks quite similar, but note that the real-space probe has grown slightly from the initial guess, and in both real and Fourier space, some slight phase structure can be seen which was not present before\n",
    "* The object now shows an image of the gold balls, but it has a grid-like pattern overlayed, and there is lots of noise in general. The image is still quite noisy\n",
    "* The refined translation positions are all over the place. Much of this is simply jitter in the reconstruction algorithm, but a slight overall shear (which is real) can also be seen.\n",
    "* The background now also includes an image of a donut. This is additional scattering from the zone plate which is not interfering with the main, coherent illumination mode. How cool is that!\n"
   ]
  },
  {
   "cell_type": "markdown",
   "id": "f2b865ab-2c4f-4507-beec-1da5bcb576ba",
   "metadata": {},
   "source": [
    "Improving the Reconstruction\n",
    "----------------------------\n",
    "\n",
    "We can improve this reconstruction in a few ways! Naturally, we can improve the reconstruction\n",
    "by changing the reconstruction algorithm, as discussed above, but we can also make progress\n",
    "by improving the initialization for the algorithm. Let's do that now!"
   ]
  },
  {
   "cell_type": "code",
   "execution_count": null,
   "id": "4c187081-702a-453d-bc97-212fb035429d",
   "metadata": {},
   "outputs": [],
   "source": [
    "au_balls_model_2 = cdtools.models.FancyPtycho.from_dataset(\n",
    "    au_balls_dataset,\n",
    "    n_modes=3, # Use multi-mode ptycho with 3 modes\n",
    "    probe_support_radius=50, # Constrain the probe to a 50-pixel diameter region\n",
    "    propagation_distance=2e-6, # Initialize the probe to a guess set 20 um downstream from focus\n",
    "    units='um', # Plot everything in units of microns\n",
    ")\n",
    "\n",
    "# This trick introduces a bit of jitter to the probe positions. It helps remove the\n",
    "# grid-like structure which was present in the initial reconstruction.\n",
    "# Try running this script with and without this line to see the difference!\n",
    "au_balls_model_2.translation_offsets.data += \\\n",
    "    0.7 * t.randn_like(au_balls_model_2.translation_offsets)\n",
    "\n",
    "# This turns off a refinement parameter for a varying probe intensity, which is not needed\n",
    "# in this dataset. Turning it off can improve results when it is not needed.\n",
    "au_balls_model_2.weights.requires_grad = False\n",
    "\n",
    "au_balls_model_2.inspect(au_balls_dataset)\n",
    "plt.show()"
   ]
  },
  {
   "cell_type": "markdown",
   "id": "046ade47-4fd6-405c-b765-250ba14c48c2",
   "metadata": {},
   "source": [
    "So, what looks different? Well, two things jump out immediately:\n",
    "\n",
    "* The probe is slightly larger in real space, because we added a propagation distance. This mirrors what we saw happen to the probe in our initial reconstruction\n",
    "* The positions are all jittery now, as we planned!\n",
    "\n",
    "Let's see what this does in a reconstruction, where now we also explicitly set the learning\n",
    "rate (lr) and minibatch size (batch_size) to adjust the aggressiveness of the reconstruction:"
   ]
  },
  {
   "cell_type": "code",
   "execution_count": null,
   "id": "6d744367-4b04-4f5c-9e7d-af0f2c7071be",
   "metadata": {},
   "outputs": [],
   "source": [
    "# We move the model to the GPU\n",
    "device = 'cuda'\n",
    "au_balls_model_2.to(device=device)\n",
    "au_balls_dataset.get_as(device=device)\n",
    "\n",
    "# A very coarse initial search\n",
    "for loss in au_balls_model_2.Adam_optimize(20, au_balls_dataset, lr=0.005, batch_size=50):\n",
    "    print(au_balls_model_2.report())\n",
    "\n",
    "# A medium-aggressive refinement\n",
    "for loss in au_balls_model_2.Adam_optimize(50, au_balls_dataset, lr=0.002, batch_size=100):\n",
    "    print(au_balls_model_2.report())\n",
    "\n",
    "au_balls_model_2.inspect(au_balls_dataset)\n",
    "plt.show()"
   ]
  },
  {
   "cell_type": "markdown",
   "id": "aa124b84-711b-42b7-9f0a-243807165e68",
   "metadata": {},
   "source": [
    "Note, before anything else, how the loss metric almost immediately improved by an order of\n",
    "magnitude! The loss metric can be misleading, but in this case, it shows that we have done\n",
    "a much better job of capturing the details of the true data.\n",
    "\n",
    "But, additionally, note the following changes in the recovered parameters:\n",
    "* The grid pattern is gone and the objects look much less noisy, although artifacts are still present\n",
    "* The positions are much less jittery than in the initialization - they have started to find the true positions\n",
    "* The background is much less intense. This is because we added additional probe modes, which accounts for incoherence in the probe. This incoherence is what the background of our first refinement was capturing.\n",
    "\n",
    "This looks good, but we can do better - let's do a final round for a best-quality refinement. In this round, we use \"schedule=True\", to allow the optimizer to lower the learning rate\n",
    "if the loss has plateaued."
   ]
  },
  {
   "cell_type": "code",
   "execution_count": null,
   "id": "2e3c7c0d-c371-4bdb-9324-184108dade35",
   "metadata": {},
   "outputs": [],
   "source": [
    "for loss in au_balls_model_2.Adam_optimize(100, au_balls_dataset, lr=0.001, batch_size=100,\n",
    "                                schedule=True):\n",
    "    print(au_balls_model_2.report())\n",
    "\n",
    "au_balls_model_2.tidy_probes()\n",
    "\n",
    "au_balls_model_2.inspect(au_balls_dataset)\n",
    "plt.show()"
   ]
  },
  {
   "cell_type": "markdown",
   "id": "281d5e4f-4ce5-48a0-86f1-cc4aeb79656e",
   "metadata": {},
   "source": [
    "Note here that, before plotting the results this time, we ran the function\n",
    "`model.tidy_probes()`. This function orthogonalizes the recovered probe modes. This is a fancy\n",
    "way of saying that we adjusted the recovered illumination function in a way which generates\n",
    "a physically equivalent probe, but which is expressed in a unique way which is suitable for\n",
    "comparison with other reconstructions. It is good to run this function once, after the entire\n",
    "reconstruction is complete\n",
    "\n",
    "At this stage, we can say we're done, but we have one final thing to look at! This is the\n",
    "comparison of the simulated data (using the recovered object, probe, etc) with the measured\n",
    "raw data. This is not always needed, but it can be an excellent tool for debugging, or for\n",
    "discovering (for example) that your reconstruction has totally not converged yet.\n",
    "\n",
    "We use the following line, and again, note that this works much better in a script or\n",
    "an interactive terminal:"
   ]
  },
  {
   "cell_type": "code",
   "execution_count": null,
   "id": "1ed90e8d-3737-4539-835f-123b0620e867",
   "metadata": {},
   "outputs": [],
   "source": [
    "au_balls_model_2.compare(au_balls_dataset)\n",
    "plt.show()"
   ]
  },
  {
   "cell_type": "markdown",
   "id": "61d06d76-6d65-4ce4-a241-a4f84dc6c77d",
   "metadata": {},
   "source": [
    "Finally, we need to save the results. We do that in the following way. Note that, at COSMIC\n",
    "Imaging, they tend to use '.mat' files, and thus have a slightly different workflow for saving\n",
    "results."
   ]
  },
  {
   "cell_type": "code",
   "execution_count": null,
   "id": "2e74bb20-652f-4400-872a-f753b8102453",
   "metadata": {},
   "outputs": [],
   "source": [
    "au_balls_model_2.save_to_h5('au_balls_reconstruction_tutorial.h5', au_balls_dataset)"
   ]
  },
  {
   "cell_type": "markdown",
   "id": "7a76ea3d-e4ba-4293-85f8-d157da103798",
   "metadata": {},
   "source": [
    "Now it's your turn\n",
    "------------------\n",
    "\n",
    "Try running a reconstruction on the pinhole based ptycho data! Remember that we loaded the data under `lab_pinhole_dataset`\n",
    "\n",
    "A working reconstruction script is included in a final cell, if you need it to get oriented.\n",
    "I believe in you, though. You can get a reconstruction on your own!"
   ]
  },
  {
   "cell_type": "code",
   "execution_count": null,
   "id": "fdda7adf-5774-4f28-b32e-863f4cb54ed4",
   "metadata": {},
   "outputs": [],
   "source": [
    "# Write a reconstruction script here"
   ]
  },
  {
   "cell_type": "code",
   "execution_count": null,
   "id": "2f59d261-52a2-4ea7-9307-ccd0208fe4d0",
   "metadata": {},
   "outputs": [],
   "source": [
    "# And another free cell, why not"
   ]
  },
  {
   "cell_type": "markdown",
   "id": "c60b79f5-6245-450c-a6da-ce95ff59410c",
   "metadata": {
    "jp-MarkdownHeadingCollapsed": true
   },
   "source": [
    "Spoilers below\n",
    "--------------\n",
    "\n",
    "For those who look: the reconstruction script below uses some features which I did not discuss above. It is absolutely possible to get a good reconstruction without these features, although\n",
    "they improve the quality.\n",
    "\n",
    "Happy reconstructing! And don't forget - there are more tutorials and example scripts available\n",
    "available at the [documentation page](https://cdtools-developers.github.io/cdtools/) and [github page](https://github.com/cdtools-developers/cdtools) for the project."
   ]
  },
  {
   "cell_type": "code",
   "execution_count": null,
   "id": "6f74ba75-04ff-42da-8c2f-b45cdb36b13c",
   "metadata": {
    "jupyter": {
     "source_hidden": true
    }
   },
   "outputs": [],
   "source": [
    "# Spoilers!\n",
    "lab_pinhole_model = cdtools.models.FancyPtycho.from_dataset(\n",
    "    lab_pinhole_dataset,\n",
    "    n_modes=3, # Use 3 incoherently mixing probe modes\n",
    "    oversampling=2, # Simulate the probe on a 2xlarger real-space array\n",
    "    probe_support_radius=120, # Force the probe to 0 outside a radius of 120 pix\n",
    "    propagation_distance=5e-3, # Propagate the initial probe guess by 5 mm\n",
    "    units='mm', # Set the units for the live plots\n",
    "    obj_view_crop=-50, # Expands the field of view in the object plot by 50 pix\n",
    ")\n",
    "\n",
    "device = 'cuda'\n",
    "lab_pinhole_model.to(device=device)\n",
    "lab_pinhole_dataset.get_as(device=device)\n",
    "\n",
    "for loss in lab_pinhole_model.Adam_optimize(50, lab_pinhole_dataset, lr=0.02, batch_size=10):\n",
    "    print(lab_pinhole_model.report())\n",
    "    \n",
    "for loss in lab_pinhole_model.Adam_optimize(50, lab_pinhole_dataset,  lr=0.005, batch_size=50):\n",
    "    print(lab_pinhole_model.report())\n",
    "\n",
    "# This orthogonalizes the recovered probe modes\n",
    "lab_pinhole_model.tidy_probes()\n",
    "\n",
    "lab_pinhole_model.inspect(lab_pinhole_dataset)\n",
    "plt.show()"
   ]
  },
  {
   "cell_type": "code",
   "execution_count": null,
   "id": "6481188c-08a4-4124-ae92-e532b6b92692",
   "metadata": {},
   "outputs": [],
   "source": []
  }
 ],
 "metadata": {
  "kernelspec": {
   "display_name": "ptycho-tutorial",
   "language": "python",
   "name": "ptycho-tutorial"
  },
  "language_info": {
   "codemirror_mode": {
    "name": "ipython",
    "version": 3
   },
   "file_extension": ".py",
   "mimetype": "text/x-python",
   "name": "python",
   "nbconvert_exporter": "python",
   "pygments_lexer": "ipython3",
   "version": "3.13.5"
  }
 },
 "nbformat": 4,
 "nbformat_minor": 5
}
